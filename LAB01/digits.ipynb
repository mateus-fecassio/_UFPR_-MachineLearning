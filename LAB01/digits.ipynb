{
 "cells": [
  {
   "cell_type": "raw",
   "metadata": {},
   "source": [
    "Script para extrair Dummy Features da base de digitos manuscritos.\n",
    "As imagens sao normalizadas no tamanho indicado nas variavies X e Y"
   ]
  },
  {
   "cell_type": "code",
   "execution_count": 1,
   "metadata": {},
   "outputs": [],
   "source": [
    "import cv2\n",
    "import os\n",
    "import numpy as np\n",
    "import random"
   ]
  },
  {
   "cell_type": "code",
   "execution_count": 2,
   "metadata": {},
   "outputs": [],
   "source": [
    "def load_images(path_images, fout, X, Y):\n",
    "\t##print ('Loading images...')\n",
    "\tarchives = os.listdir(path_images)\n",
    "\timages = []\n",
    "\tarq = open('digits/files.txt')\n",
    "\tlines = arq.readlines()\n",
    "\t##print ('Extracting dummy features')\n",
    "\tfor line in lines:\n",
    "\t\taux = line.split('/')[1]\n",
    "\t\timage_name = aux.split(' ')[0]\n",
    "\t\tlabel = line.split(' ')[1]\n",
    "\t\tlabel = label.split('\\n')\n",
    "\t\t\n",
    "\t\tfor archive in archives:\n",
    "\t\t\tif archive == image_name:\n",
    "\t\t\t\timage = cv2.imread(path_images +'/'+ archive, 0)\n",
    "\t\t\t\trawpixel(image, label[0], fout, X, Y)\n",
    "\t\t\t\t\n",
    "\t\t\t\t#images.append((image, label))\n",
    "\n",
    "\t##print ('Done. Take a look into features.txt')\n",
    "\treturn images"
   ]
  },
  {
   "cell_type": "raw",
   "metadata": {},
   "source": [
    "Usa o valor dos pixels como caracteristica:"
   ]
  },
  {
   "cell_type": "code",
   "execution_count": 3,
   "metadata": {},
   "outputs": [],
   "source": [
    "def rawpixel(image, label, fout, X, Y):\n",
    "\timage = cv2.resize(image, (X,Y) )\n",
    "\t#cv2.imshow(\"image\", image )\n",
    "\t#cv2.waitKey(0)\n",
    "\t#cv2.destroyAllWindows()\n",
    "\t\n",
    "\tfout.write(str(label) +  \" \")\n",
    "\t\n",
    "\tindice = 0\n",
    "\tfor i in range(Y):\n",
    "\t\t#vet= []\n",
    "\t\tfor j in range(X):\n",
    "\t\t\tif( image[i][j] > 128):\n",
    "\t\t\t\tv = 0\n",
    "\t\t\telse:\n",
    "\t\t\t\tv = 1\t\n",
    "\t\t\t#vet.append(v)\n",
    "\t\n",
    "\t\t\tfout.write(str(indice)+\":\"+str(v)+\" \")\n",
    "\t\t\tindice = indice+1\n",
    "\n",
    "\tfout.write(\"\\n\")"
   ]
  },
  {
   "cell_type": "code",
   "execution_count": 4,
   "metadata": {},
   "outputs": [],
   "source": [
    "## novas dimensões das imagens para contar os pixels\n",
    "dimensions = [20,10,10,20,20,20,10,10,100,100,90,50,80,30,140,70,120,70,110,60]\n",
    "#               1     2     3     4      5      6     7      8      9     10"
   ]
  },
  {
   "cell_type": "code",
   "execution_count": 5,
   "metadata": {},
   "outputs": [
    {
     "name": "stdout",
     "output_type": "stream",
     "text": [
      "features_1.txt tem o valor X = 20 e o valor Y = 10\n",
      "features_2.txt tem o valor X = 10 e o valor Y = 20\n",
      "features_3.txt tem o valor X = 20 e o valor Y = 20\n",
      "features_4.txt tem o valor X = 10 e o valor Y = 10\n",
      "features_5.txt tem o valor X = 100 e o valor Y = 100\n",
      "features_6.txt tem o valor X = 90 e o valor Y = 50\n",
      "features_7.txt tem o valor X = 80 e o valor Y = 30\n",
      "features_8.txt tem o valor X = 140 e o valor Y = 70\n",
      "features_9.txt tem o valor X = 120 e o valor Y = 70\n",
      "features_10.txt tem o valor X = 110 e o valor Y = 60\n"
     ]
    }
   ],
   "source": [
    "#----------------MAIN\n",
    "mark = 1;\n",
    "size = len(dimensions)\n",
    "for i in range(0,size,2):\n",
    "    X = dimensions[i]\n",
    "    Y = dimensions[i+1]\n",
    "\n",
    "    archive = 'features_'+str(mark)+'.txt'\n",
    "\n",
    "    fout = open(archive,\"w\")\n",
    "\n",
    "    images = load_images('digits/data', fout, X, Y)\n",
    "\n",
    "    fout.close\n",
    "    \n",
    "    mark += 1\n",
    "    \n",
    "    print(archive, 'tem o valor X = '+str(X)+' e o valor Y = '+str(Y))"
   ]
  },
  {
   "cell_type": "code",
   "execution_count": 6,
   "metadata": {},
   "outputs": [],
   "source": [
    "# mark = 10;\n",
    "# X = 110\n",
    "# Y = 60\n",
    "\n",
    "# archive = 'features_'+str(mark)+'.txt'\n",
    "\n",
    "# fout = open(archive,\"w\")\n",
    "\n",
    "# images = load_images('digits/data', fout, X, Y)\n",
    "\n",
    "# fout.close\n",
    "\n",
    "# print(archive, 'tem o valor X = '+str(X)+' e o valor Y = '+str(Y))"
   ]
  }
 ],
 "metadata": {
  "kernelspec": {
   "display_name": "Python 3",
   "language": "python",
   "name": "python3"
  },
  "language_info": {
   "codemirror_mode": {
    "name": "ipython",
    "version": 3
   },
   "file_extension": ".py",
   "mimetype": "text/x-python",
   "name": "python",
   "nbconvert_exporter": "python",
   "pygments_lexer": "ipython3",
   "version": "3.8.5"
  }
 },
 "nbformat": 4,
 "nbformat_minor": 4
}
